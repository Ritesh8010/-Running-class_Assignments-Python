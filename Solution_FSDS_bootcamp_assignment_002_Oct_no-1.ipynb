{
 "cells": [
  {
   "cell_type": "code",
   "execution_count": 55,
   "id": "3541760c",
   "metadata": {},
   "outputs": [
    {
     "ename": "IndentationError",
     "evalue": "expected an indented block (3451536465.py, line 15)",
     "output_type": "error",
     "traceback": [
      "\u001b[1;36m  Input \u001b[1;32mIn [55]\u001b[1;36m\u001b[0m\n\u001b[1;33m    print(\"I love python\")  # Indentation is not maintained.\u001b[0m\n\u001b[1;37m    ^\u001b[0m\n\u001b[1;31mIndentationError\u001b[0m\u001b[1;31m:\u001b[0m expected an indented block\n"
     ]
    }
   ],
   "source": [
    "#.1.  What is indentation error? Why indentation is important? Give one simple example?\n",
    "\n",
    "\"\"\"\n",
    "# Ans-\n",
    "The indentation error often occurs when our code is not properly\n",
    "aligned,It occurs when the spaces or tabs are not given properly.\n",
    "\n",
    "Indentation is important because it is used to indicate a block of code.\n",
    "As in other programming language the indentation in code is for \n",
    "readability only,like in Java C and C++\"\"\"\n",
    "\n",
    "#example\n",
    "a=3\n",
    "if a>1:\n",
    "print(\"I love python\")  # Indentation is not maintained.\n"
   ]
  },
  {
   "cell_type": "code",
   "execution_count": 4,
   "id": "bb999688",
   "metadata": {},
   "outputs": [
    {
     "name": "stdout",
     "output_type": "stream",
     "text": [
      "Hey friend, is class started?: [0-False/1-True]1\n",
      "Since class started...\n",
      "Lets concentrate\n"
     ]
    }
   ],
   "source": [
    "#2.Correct the following code and write the comment where you made the correction?\n",
    "\n",
    "class_started =bool(input(\"Hey friend, is class started?: [0-False/1-True]\"))\n",
    "\n",
    "if class_started:\n",
    "   print(\"Since class started...\")\n",
    "   print(\"Lets concentrate\")\n",
    "else:\n",
    "   print(\"Since class is not started...\")\n",
    "   print(\"let's revise\") "
   ]
  },
  {
   "cell_type": "code",
   "execution_count": 5,
   "id": "7e6274fe",
   "metadata": {},
   "outputs": [
    {
     "name": "stdout",
     "output_type": "stream",
     "text": [
      "Hey friend, is class started?: [0-False/1-True]0\n",
      "Since class started...\n",
      "Lets concentrate\n"
     ]
    }
   ],
   "source": [
    "class_started =bool(input(\"Hey friend, is class started?: [0-False/1-True]\"))\n",
    "\n",
    "if class_started:\n",
    "   print(\"Since class started...\")\n",
    "   print(\"Lets concentrate\")\n",
    "else:\n",
    "   print(\"Since class is not started...\")\n",
    "   print(\"let's revise\") "
   ]
  },
  {
   "cell_type": "code",
   "execution_count": 6,
   "id": "da29b0f7",
   "metadata": {},
   "outputs": [
    {
     "name": "stdout",
     "output_type": "stream",
     "text": [
      "Hey friend, is class started?: [0-False/1-True]1\n",
      "Since class started...\n",
      "Lets concentrate\n"
     ]
    }
   ],
   "source": [
    "\"\"\" Since in question 2 either we press zero or 1 we are getting\n",
    "the same output ,so we have to convert bool (true and false to 1 and 0)\n",
    "by using type conversion int.\n",
    "\n",
    "Corrected code here:-\n",
    "\"\"\"\n",
    "class_started =bool(int(input(\"Hey friend, is class started?: [0-False/1-True]\")))# used type conversion bool to int\n",
    "\n",
    "if class_started:\n",
    "   print(\"Since class started...\")\n",
    "   print(\"Lets concentrate\")\n",
    "else:\n",
    "   print(\"Since class is not started...\")\n",
    "   print(\"let's revise\") \n"
   ]
  },
  {
   "cell_type": "code",
   "execution_count": 7,
   "id": "169039bc",
   "metadata": {},
   "outputs": [
    {
     "name": "stdout",
     "output_type": "stream",
     "text": [
      "Hey friend, is class started?: [0-False/1-True]0\n",
      "Since class is not started...\n",
      "let's revise\n"
     ]
    }
   ],
   "source": [
    "#Corrected code here:-\n",
    "\n",
    "class_started =bool(int(input(\"Hey friend, is class started?: [0-False/1-True]\")))# used type conversion bool to int\n",
    "\n",
    "if class_started:\n",
    "   print(\"Since class started...\")\n",
    "   print(\"Lets concentrate\")\n",
    "else:\n",
    "   print(\"Since class is not started...\")\n",
    "   print(\"let's revise\") "
   ]
  },
  {
   "cell_type": "code",
   "execution_count": 8,
   "id": "8c27d9c5",
   "metadata": {},
   "outputs": [
    {
     "name": "stdout",
     "output_type": "stream",
     "text": [
      "enter a number:1\n"
     ]
    },
    {
     "ename": "TypeError",
     "evalue": "not all arguments converted during string formatting",
     "output_type": "error",
     "traceback": [
      "\u001b[1;31m---------------------------------------------------------------------------\u001b[0m",
      "\u001b[1;31mTypeError\u001b[0m                                 Traceback (most recent call last)",
      "Input \u001b[1;32mIn [8]\u001b[0m, in \u001b[0;36m<cell line: 6>\u001b[1;34m()\u001b[0m\n\u001b[0;32m      1\u001b[0m \u001b[38;5;124;03m\"\"\"\u001b[39;00m\n\u001b[0;32m      2\u001b[0m \u001b[38;5;124;03m3. Use if else condition to verify that dataype of input() \u001b[39;00m\n\u001b[0;32m      3\u001b[0m \u001b[38;5;124;03mmethod in python is always string\"\"\"\u001b[39;00m\n\u001b[0;32m      5\u001b[0m a\u001b[38;5;241m=\u001b[39m\u001b[38;5;28minput\u001b[39m(\u001b[38;5;124m\"\u001b[39m\u001b[38;5;124menter a number:\u001b[39m\u001b[38;5;124m\"\u001b[39m)\n\u001b[1;32m----> 6\u001b[0m \u001b[38;5;28;01mif\u001b[39;00m \u001b[43ma\u001b[49m\u001b[38;5;241;43m%\u001b[39;49m\u001b[38;5;241;43m2\u001b[39;49m\u001b[38;5;241m==\u001b[39m\u001b[38;5;241m0\u001b[39m:\n\u001b[0;32m      7\u001b[0m     \u001b[38;5;28mprint\u001b[39m(\u001b[38;5;124m\"\u001b[39m\u001b[38;5;124meven\u001b[39m\u001b[38;5;124m\"\u001b[39m)\n\u001b[0;32m      8\u001b[0m \u001b[38;5;28;01melse\u001b[39;00m:\n",
      "\u001b[1;31mTypeError\u001b[0m: not all arguments converted during string formatting"
     ]
    }
   ],
   "source": [
    "\"\"\"\n",
    "3. Use if else condition to verify that dataype of input() \n",
    "method in python is always string\"\"\"\n",
    "\n",
    "a=input(\"enter a number:\") # it shows input is always a string so we have to type conversion\n",
    "if a%2==0:\n",
    "    print(\"even\")\n",
    "else:\n",
    "    print(\"odd\")\n",
    "\n",
    "\n",
    "\n"
   ]
  },
  {
   "cell_type": "code",
   "execution_count": 17,
   "id": "6afef599",
   "metadata": {},
   "outputs": [
    {
     "name": "stdout",
     "output_type": "stream",
     "text": [
      "Enter first number:3.98\n",
      "Enter Second number:999.876\n",
      "Enter Third  number:99.87\n",
      "the largest number among n1:3.98,n2:999.876 and n3:99.87 is n2:999.876\n"
     ]
    }
   ],
   "source": [
    "\"\"\"\n",
    "Take 3 variables and assign integer values to them. \n",
    "Find the largest variable, by only using the \n",
    "if and else conditions\"\"\"\n",
    "\n",
    "n1=float(input(\"Enter first number:\"))\n",
    "n2=float(input(\"Enter Second number:\"))\n",
    "n3=float(input(\"Enter Third  number:\"))\n",
    "\n",
    "# To find largest among all three numbers.\n",
    "\n",
    "if(n1>=n2)and(n1>=n3):\n",
    "    \n",
    "    print(f\"the largest number among n1:{n1},n2:{n2} and n3:{n3} is n1:{n1}\")\n",
    "\n",
    "if(n2>=n1)and(n2>=n3):\n",
    "        print(f\"the largest number among n1:{n1},n2:{n2} and n3:{n3} is n2:{n2}\")\n",
    "        \n",
    "if(n3>=n2)and(n3>=n1): \n",
    "     print(f\"the largest number among n1:{n1},n2:{n2} and n3:{n3} is n3:{n3}\")"
   ]
  },
  {
   "cell_type": "code",
   "execution_count": 20,
   "id": "71d1da68",
   "metadata": {},
   "outputs": [
    {
     "name": "stdout",
     "output_type": "stream",
     "text": [
      "False\n"
     ]
    }
   ],
   "source": [
    "# 5. What would be the solution?\n",
    "# true or false\n",
    "a = 6\n",
    "b = 10\n",
    "print( not ( not a == 10 or not b == 10) )\n",
    "\n",
    "\n",
    "# ans- working =(not(T+F)) =(not(T)) =F\n",
    "\n",
    "\n",
    " \n",
    " \n",
    "\n",
    "\n",
    "\n"
   ]
  },
  {
   "cell_type": "code",
   "execution_count": null,
   "id": "b50a45d1",
   "metadata": {},
   "outputs": [],
   "source": [
    "# 6. Find the answer as well as find out the reason behind the result? -"
   ]
  },
  {
   "cell_type": "code",
   "execution_count": 21,
   "id": "af832667",
   "metadata": {},
   "outputs": [
    {
     "name": "stdout",
     "output_type": "stream",
     "text": [
      "False\n"
     ]
    }
   ],
   "source": [
    "# Case1:\n",
    "A = 5.0\n",
    "B = 10/2          \n",
    "print(A is B)\n",
    "\n",
    "# Ans- False\n",
    "\n",
    "# Since B=5 but it is in integer data type not in float so.\n",
    "# Answer will be false\n"
   ]
  },
  {
   "cell_type": "code",
   "execution_count": 23,
   "id": "96a70cd2",
   "metadata": {},
   "outputs": [
    {
     "name": "stdout",
     "output_type": "stream",
     "text": [
      "False\n"
     ]
    }
   ],
   "source": [
    "# Case-2\n",
    "A = 5.0\n",
    "B = int(10/2)\n",
    "print(A is B)\n",
    "    \n",
    "# Ans- False\n",
    "# since numerator and denominator (10/2) are both in integer data\n",
    "# type ,it will combindely give result in integer only.\n",
    "# and we are converting in integer only ,since A is in float\n",
    "# So answer is False"
   ]
  },
  {
   "cell_type": "code",
   "execution_count": 37,
   "id": "51fc43ed",
   "metadata": {},
   "outputs": [
    {
     "name": "stdout",
     "output_type": "stream",
     "text": [
      "False\n"
     ]
    }
   ],
   "source": [
    "# Case-3:\n",
    "A=5.0\n",
    "B=float(10/2)\n",
    "print(A is B)\n",
    "\n",
    "# Ans-True\n",
    "# since numerator and denominator (10/2) are both in integer data\n",
    "# type ,it will combindely give result in integer only.\n",
    "# and we are converting in float  ,since A is in float\n",
    "# So answer isTrue\n",
    "\n",
    "# Sir, I have doubt why it is showing false\n"
   ]
  },
  {
   "cell_type": "markdown",
   "id": "8efda165",
   "metadata": {},
   "source": [
    "7. Write a program that asks the user to enter a number.\n",
    "You should print out a message to the user, either \n",
    "“That number is divisible by either 3 or 5”, or \n",
    "“That number is not divisible by either 3 or 5”.\n",
    "Be sure to consider the data type of the input \n",
    "you are taking in from the user. Use a single \n",
    "if/else block to solve this problem."
   ]
  },
  {
   "cell_type": "code",
   "execution_count": 41,
   "id": "ba97ef10",
   "metadata": {},
   "outputs": [
    {
     "name": "stdout",
     "output_type": "stream",
     "text": [
      "Enter a number: 15\n",
      "15 is divisible by either 3 or 5\n"
     ]
    }
   ],
   "source": [
    "# Ans-7\n",
    "\n",
    "num=int(input(\"Enter a number: \"))\n",
    "if num%3==0 or  num%5==0:\n",
    "    print(f\"{num} is divisible by either 3 or 5\")\n",
    "else:\n",
    "     print(f\"{num} is not divisible by either 3 or 5\")\n"
   ]
  },
  {
   "cell_type": "markdown",
   "id": "760856a1",
   "metadata": {},
   "source": [
    "8.Take user input for length and width. \n",
    "Then calculate the area of rectangle. \n",
    "Also print as per length and width whether \n",
    "its a square of rectangle."
   ]
  },
  {
   "cell_type": "code",
   "execution_count": 53,
   "id": "4a8fe7be",
   "metadata": {},
   "outputs": [
    {
     "name": "stdout",
     "output_type": "stream",
     "text": [
      "Enter the length: 4\n",
      "Enter the Width: 8\n",
      "area of rectangle is : 32.0\n",
      "It is Rectangle\n",
      "area of rectangle is : 32.0\n"
     ]
    }
   ],
   "source": [
    "# Ans-8\n",
    "\n",
    "\n",
    "length=float(input(\"Enter the length: \"))\n",
    "Width=float(input(\"Enter the Width: \"))\n",
    "area=length*Width\n",
    "print(f\"area of rectangle is : {area}\")\n",
    "\n",
    "if length==Width:\n",
    "    print(\"It is square\")\n",
    "    print(f\"area of square is : {area}\")\n",
    "else:\n",
    "     print(\"It is Rectangle\")\n",
    "     print(f\"area of rectangle is : {area}\")\n",
    "    \n",
    "    \n",
    "       \n"
   ]
  },
  {
   "cell_type": "markdown",
   "id": "9e4d7a56",
   "metadata": {},
   "source": [
    "9. Take two variable radius_1 and radius_2 \n",
    "and calculate the area of circle_1 and circle_2. \n",
    "Also print which circle has large area.\n",
    "If area is equal then print area is equal"
   ]
  },
  {
   "cell_type": "code",
   "execution_count": 6,
   "id": "bf226011",
   "metadata": {},
   "outputs": [
    {
     "name": "stdout",
     "output_type": "stream",
     "text": [
      "Enter the radius of circle_1: 9\n",
      "Enter the radius of circle_2: 9\n",
      "Area of Circle 1 and Circle 2 are equal and its area is : 254.57142857142856\n"
     ]
    }
   ],
   "source": [
    "# Ans-9\n",
    "\n",
    "radius_1=float(input(\"Enter the radius of circle_1: \"))\n",
    "radius_2=float(input(\"Enter the radius of circle_2: \"))\n",
    "area_circle_1=(22/7)*(radius_1**2)\n",
    "area_circle_2=(22/7)*(radius_2**2)\n",
    "if radius_1>radius_2:\n",
    "    print(f\"Circle_1 having radius {radius_1} is larger and its area is {area_circle_1}\")\n",
    "elif radius_1==radius_2:\n",
    "    print(f\"Area of Circle 1 and Circle 2 are equal and its area is : {area_circle_1}\")\n",
    "else:\n",
    "    print(f\"Circle_2 having radius {radius_2} is larger and its area is {area_circle_2}\")\n",
    "    \n"
   ]
  },
  {
   "cell_type": "markdown",
   "id": "21d88c5d",
   "metadata": {},
   "source": [
    "10. Check whether a year is leap year or not.\n",
    "Use nested if...else to solve this problem.\n",
    "A leap year is exactly divisible by 4 except for \n",
    "century years (years ending with 00). \n",
    "The century year is a leap year only if it \n",
    "is perfectly divisible by 400."
   ]
  },
  {
   "cell_type": "code",
   "execution_count": 8,
   "id": "a683eda1",
   "metadata": {},
   "outputs": [
    {
     "name": "stdout",
     "output_type": "stream",
     "text": [
      "Enter the Year that is to be checcked: 1999\n",
      "Given year 1999 is not leap year\n"
     ]
    }
   ],
   "source": [
    "#Ans-10\n",
    "\n",
    "yy=int(input(\"Enter the Year that is to be checcked: \"))\n",
    "if yy%4==0 and yy%100!=0: # to check normal  year which is leap or not\n",
    "    print(f\"Given year {yy} is leap year\")\n",
    "elif yy%400==0 and yy%100==0:# o check century year which is leap or not\n",
    "     print(f\"Given year {yy} is leap year\")\n",
    "else:\n",
    "     print(f\"Given year {yy} is not leap year\")"
   ]
  },
  {
   "cell_type": "code",
   "execution_count": null,
   "id": "1ee52de4",
   "metadata": {},
   "outputs": [],
   "source": []
  }
 ],
 "metadata": {
  "kernelspec": {
   "display_name": "Python 3 (ipykernel)",
   "language": "python",
   "name": "python3"
  },
  "language_info": {
   "codemirror_mode": {
    "name": "ipython",
    "version": 3
   },
   "file_extension": ".py",
   "mimetype": "text/x-python",
   "name": "python",
   "nbconvert_exporter": "python",
   "pygments_lexer": "ipython3",
   "version": "3.9.12"
  }
 },
 "nbformat": 4,
 "nbformat_minor": 5
}
