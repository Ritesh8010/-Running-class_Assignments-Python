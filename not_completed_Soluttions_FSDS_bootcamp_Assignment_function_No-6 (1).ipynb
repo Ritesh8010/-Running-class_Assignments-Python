{
 "cells": [
  {
   "cell_type": "code",
   "execution_count": null,
   "id": "e33a87f7",
   "metadata": {},
   "outputs": [],
   "source": [
    "1. write a function which will try to find out len of a string without using an inbuilt len function \n",
    "2. Write a function which will be able to print an index of list element\n",
    "3. write a function which will be able to print an ip address of your system\n",
    "4. write a function which will shutdown your system\n",
    "5. write a function which will take input as a list with any kind of numeric value and give an out as multiplication of all\n",
    "the numeric data l=[3.5,6.56,4,5,\"sudh\",\"ineuron\",fsds bootcamp 2.0 ]\n",
    "6.write a function which will be read all the mails\n",
    "7.write a function which will be able to send a mail to anyone\n",
    "8. write a function which will be able to read doc/word file from your system"
   ]
  },
  {
   "cell_type": "code",
   "execution_count": 14,
   "id": "29af02a5",
   "metadata": {},
   "outputs": [
    {
     "name": "stdout",
     "output_type": "stream",
     "text": [
      "Enter a string value:ritesh\n",
      "length of ritesh is : 6\n"
     ]
    }
   ],
   "source": [
    "# 1. write a function which will try to find out len of a string without using an inbuilt len function\n",
    "\n",
    "# Ans-\n",
    "\n",
    "def len_str(st):\n",
    "   \n",
    "    count=0\n",
    "    for i in st:\n",
    "        count=count+1\n",
    "    return count\n",
    "name=input(\"Enter a string value:\")\n",
    "print(f\"length of {name} is : {len_str(name)}\")"
   ]
  },
  {
   "cell_type": "code",
   "execution_count": 19,
   "id": "d7187ce5",
   "metadata": {},
   "outputs": [
    {
     "name": "stdout",
     "output_type": "stream",
     "text": [
      "0\n"
     ]
    }
   ],
   "source": [
    "# 2. Write a function which will be able to print an index of list element\n",
    "\n",
    "# Ans-\n",
    "\n",
    "def index(i):\n",
    "    l1=[]\n",
    "    return l1.index(i)\n",
    "l2=[1,2,3,6,8,9]\n",
    "print(l2.index(1))"
   ]
  },
  {
   "cell_type": "code",
   "execution_count": 21,
   "id": "27dae2ef",
   "metadata": {},
   "outputs": [
    {
     "name": "stdout",
     "output_type": "stream",
     "text": [
      "Your Computer Name is:EMMRLLT0030\n",
      "Your Computer IP Address is:192.168.19.133\n"
     ]
    }
   ],
   "source": [
    "#3. write a function which will be able to print an ip address of your system\n",
    "\n",
    "# Ans-\n",
    "import socket   \n",
    "hostname=socket.gethostname()   \n",
    "IPAddr=socket.gethostbyname(hostname)   \n",
    "print(\"Your Computer Name is:\"+hostname)   \n",
    "print(\"Your Computer IP Address is:\"+IPAddr) \n",
    "\n"
   ]
  },
  {
   "cell_type": "code",
   "execution_count": null,
   "id": "009ce6eb",
   "metadata": {},
   "outputs": [
    {
     "name": "stdout",
     "output_type": "stream",
     "text": [
      "Do you wish to shutdown your computer ? (yes / no): no\n"
     ]
    }
   ],
   "source": [
    "# 4. write a function which will shutdown your system\n",
    "# Ans-\n",
    "\n",
    "import os\n",
    "  \n",
    "shutdown = input(\"Do you wish to shutdown your computer ? (yes / no): \")\n",
    "  \n",
    "if shutdown == 'no':\n",
    "    exit()\n",
    "else:\n",
    "    os.system(\"shutdown /s /t 1\")"
   ]
  },
  {
   "cell_type": "code",
   "execution_count": 4,
   "id": "ad21e472",
   "metadata": {},
   "outputs": [
    {
     "name": "stdout",
     "output_type": "stream",
     "text": [
      "20\n"
     ]
    }
   ],
   "source": [
    "# 5. write a function which will take input as a list with any \n",
    "#kind of numeric value and give an out as multiplication of all\n",
    "#the numeric data\n",
    "#l=[3.5,6.56,4,5,\"sudh\",\"ineuron\",fsds bootcamp 2.0 ]\n",
    "\n",
    "# Ans-\n",
    "def multiply(l2):\n",
    "    l1=list()\n",
    "    mul=1\n",
    "    for i in l:\n",
    "        if type(i)==int:\n",
    "            \n",
    "            mul=mul*i\n",
    "    return mul\n",
    "l=[3.5,6.56,4,5,\"sudh\",\"ineuron\",\"fsds bootcamp 2.0\" ]\n",
    "print(multiply(l))\n"
   ]
  },
  {
   "cell_type": "code",
   "execution_count": null,
   "id": "d1e84a89",
   "metadata": {},
   "outputs": [],
   "source": [
    "\n"
   ]
  },
  {
   "cell_type": "code",
   "execution_count": null,
   "id": "73d072dc",
   "metadata": {},
   "outputs": [],
   "source": []
  }
 ],
 "metadata": {
  "kernelspec": {
   "display_name": "Python 3 (ipykernel)",
   "language": "python",
   "name": "python3"
  },
  "language_info": {
   "codemirror_mode": {
    "name": "ipython",
    "version": 3
   },
   "file_extension": ".py",
   "mimetype": "text/x-python",
   "name": "python",
   "nbconvert_exporter": "python",
   "pygments_lexer": "ipython3",
   "version": "3.9.12"
  }
 },
 "nbformat": 4,
 "nbformat_minor": 5
}
