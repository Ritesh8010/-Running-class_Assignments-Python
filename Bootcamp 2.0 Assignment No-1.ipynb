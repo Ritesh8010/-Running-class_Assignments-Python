{
 "cells": [
  {
   "cell_type": "code",
   "execution_count": null,
   "id": "675b6d14",
   "metadata": {},
   "outputs": [],
   "source": [
    "# Assignment-No-1\n",
    "\n",
    "    1. Find out all the types of error that we have encountered in our lecture and why?\n",
    "    2.Take input A and B and print their sum ,mul,div,square of the nos.\n",
    "    3. How many reserve keywords are there in python and why we should not use them as a variable name.\n",
    "    4. Create email ids with the user inputs. in the following format-\n",
    "       <lastname>.<firstname>@gmail.com\n",
    "    5. Try to print the following lines-\n",
    "       - Hi I'm Sunny\n",
    "        - My address is 22/3\n",
    "        - I earn 20$ daily\n",
    "    6. Take user input (name,date of birth etc ) to fill a form for your college and print their email IDs.\n",
    "    7. Convert the folllowing-\n",
    "       - \"22.4\" into integer\n",
    "        - \"22\" into complex no\n",
    "        - "
   ]
  },
  {
   "cell_type": "code",
   "execution_count": null,
   "id": "2a37414e",
   "metadata": {},
   "outputs": [],
   "source": [
    "# 1. Find out all the types of error that we have encountered in our lecture and why?\n",
    "1. Print(\"Good Evening\") # print is written as P capital\n",
    "\n",
    "2. print \"Good Evening\" # Missing parentheses\n",
    "\n",
    "3. print(\"Good          # EOL is missing\n",
    "      Evening\") \n",
    "      \n",
    "4. ten*=10 # Variable name should not contain special character\n",
    "         \n",
    "5. ten%number=10 # cannot assign a operator in variable definition\n",
    "         \n",
    "6. 10ten=10 # Variable name cannot start with numbers\n",
    "         \n",
    "7. ten number=10 # invalid syntax\n",
    "         \n",
    "8. \"22\"+22 # cannot concate string and integer data type\n",
    "         \n",
    "9. TEN= 10\n",
    "  print(Ten) # Varaible case sensitivity\n",
    "         \n",
    "10. print=\"Hi there\" # we should not use reserved key words as variable name\n",
    "         \n",
    "11. a,b,c=10 # each and every variable must have a value Cannot unpack non iterable in object\n",
    "\n",
    "12. # Calculate the age of the user\n",
    "name=  input(\"Name: \") # input always gives you string\n",
    "place=input(\"place: \")\n",
    "year_of_birth=input(\"year_of_birth: \") # throw error beacuse input in python by default take string we have to typecast in int\n",
    "\n",
    "age=2022-year_of_birth\n",
    "         \n",
    "13.  # String to integer\n",
    "         \n",
    "A=\"50.22\"# entering float value\n",
    "print(f\"data type before : {type(A)},value of A: {A}\")\n",
    "A= int(A) # trying to convert it into integer    # throw error because we have entered the float value in \" \" and we are type casting in teger ,so in order to type cast in any data type we have to enter the variable in the desired format.\n",
    "print(f\"data type after:{type(A)},value of A: {A}\")\n",
    "      \n",
    "14. # empty string  to integer\n",
    "         \n",
    "A= \"\"\n",
    "print(f\"data type before : {type(A)},value of A: {A}\")\n",
    "A= int(A)               # Throw error beacuse of converting empty string into integer.\n",
    "print(f\"data type after:{type(A)},value of A: {A}\")\n",
    "  \n",
    "         \n",
    "         \n",
    "15. A= int(input(\"Entervalue of A : \"))\n",
    "B=int(input(\"Enter value of B: \")) # if we enter both the values as integer then no error will come, but if we\n",
    "                                 #  give  input as integer and entering other data type in the run time, it will give error.\n",
    "print(type(A),type(B))\n",
    "print(f\"Sum of A & B is : {A+B}\")\n",
    "         \n",
    "\n",
    "      "
   ]
  },
  {
   "cell_type": "code",
   "execution_count": 4,
   "id": "90e38ab5",
   "metadata": {},
   "outputs": [
    {
     "name": "stdout",
     "output_type": "stream",
     "text": [
      "enter first no: 8\n",
      "enter second  no: 4\n",
      " Sum of first number- 8 and second number 4 is : 12\n",
      " Diiference of first number- 8 and second number 4 is : 4\n",
      " Multi plication  of first number- 8 and second number 4 is : 32\n",
      " Division of first number- 8 and second number 4 is : 2.0\n"
     ]
    }
   ],
   "source": [
    "#  2.Take input A and B and print their sum ,mul,div,square of the nos.\n",
    " \n",
    "a=int(input(\"enter first no: \"))\n",
    "b=int(input(\"enter second  no: \"))\n",
    "c=a+b\n",
    "d=a-b\n",
    "e=a*b\n",
    "f=a/b\n",
    "print(f\" Sum of first number- {a} and second number {b} is : {c}\")\n",
    "print(f\" Diiference of first number- {a} and second number {b} is : {d}\")\n",
    "print(f\" Multi plication  of first number- {a} and second number {b} is : {e}\")\n",
    "print(f\" Division of first number- {a} and second number {b} is : {f}\")\n",
    "    \n",
    "    "
   ]
  },
  {
   "cell_type": "code",
   "execution_count": 7,
   "id": "e5ffb1a4",
   "metadata": {},
   "outputs": [
    {
     "data": {
      "text/plain": [
       "int"
      ]
     },
     "execution_count": 7,
     "metadata": {},
     "output_type": "execute_result"
    }
   ],
   "source": [
    "  # 3. How many reserve keywords are there in python and why we should not use them as a variable name.\n",
    "    # There are 33 reserved keywords in python language like print,and,import,return ,true etc.\n",
    "    \n",
    "    # We should not use them as variable name because they are preserved for special task/function.\n",
    "    \n",
    "    # for exampple \n",
    "    \n",
    "print=10\n",
    "type(print)\n",
    "    \n",
    "    "
   ]
  },
  {
   "cell_type": "code",
   "execution_count": 8,
   "id": "b2ab3156",
   "metadata": {},
   "outputs": [
    {
     "ename": "TypeError",
     "evalue": "'int' object is not callable",
     "output_type": "error",
     "traceback": [
      "\u001b[1;31m---------------------------------------------------------------------------\u001b[0m",
      "\u001b[1;31mTypeError\u001b[0m                                 Traceback (most recent call last)",
      "Input \u001b[1;32mIn [8]\u001b[0m, in \u001b[0;36m<cell line: 1>\u001b[1;34m()\u001b[0m\n\u001b[1;32m----> 1\u001b[0m \u001b[38;5;28;43mprint\u001b[39;49m\u001b[43m(\u001b[49m\u001b[38;5;124;43m'\u001b[39;49m\u001b[38;5;124;43mHi I am Ritesh\u001b[39;49m\u001b[38;5;124;43m'\u001b[39;49m\u001b[43m)\u001b[49m\n",
      "\u001b[1;31mTypeError\u001b[0m: 'int' object is not callable"
     ]
    }
   ],
   "source": [
    "print('Hi I am Ritesh')"
   ]
  },
  {
   "cell_type": "code",
   "execution_count": 9,
   "id": "a548cc71",
   "metadata": {},
   "outputs": [],
   "source": [
    "del print"
   ]
  },
  {
   "cell_type": "code",
   "execution_count": 10,
   "id": "6bfdac97",
   "metadata": {},
   "outputs": [
    {
     "name": "stdout",
     "output_type": "stream",
     "text": [
      "Hi I am Ritesh\n"
     ]
    }
   ],
   "source": [
    "print('Hi I am Ritesh')"
   ]
  },
  {
   "cell_type": "code",
   "execution_count": null,
   "id": "3e0b1402",
   "metadata": {},
   "outputs": [],
   "source": [
    "# here we have used print as a variable name for assigning the value 10, and we have checked it's dat type it is showing integer\n",
    "# again whenn we use print() to print the statement it is throwing error or else identity of print is lost\n",
    "# That,s why we have use to delete the print variable\n",
    "# then it is working"
   ]
  },
  {
   "cell_type": "code",
   "execution_count": 11,
   "id": "328bd509",
   "metadata": {},
   "outputs": [
    {
     "name": "stdout",
     "output_type": "stream",
     "text": [
      "first name: Ritesh\n",
      "middle name: Kumar\n",
      "last name : Gupta\n",
      "email id of the person named :Ritesh Kumar Gupta is : Gupta.Ritesh@gmail.com\n"
     ]
    }
   ],
   "source": [
    "#4.Create email ids with the user inputs. in the following format-\n",
    "      # <lastname>.<firstname>@gmail.com\n",
    "\n",
    "first_Name =input(\"first name: \")\n",
    "middle_Name=input(\"middle name: \")\n",
    "last_Name= input(\"last name : \")\n",
    "print(f\"email id of the person named :{first_Name} {middle_Name} {last_Name} is : {last_Name}.{first_Name}@gmail.com\")"
   ]
  },
  {
   "cell_type": "code",
   "execution_count": 5,
   "id": "82419ee2",
   "metadata": {},
   "outputs": [
    {
     "name": "stdout",
     "output_type": "stream",
     "text": [
      "name : Sunny\n",
      "Address: 22.3\n",
      "earning is 20\n",
      " Hi i am Sunny\n",
      "My address is 22.3\n",
      "I earn 20 $ daily\n",
      "\n"
     ]
    }
   ],
   "source": [
    " #5. Try to print the following lines-\n",
    "      # - Hi I'm Sunny\n",
    "       # - My address is 22/3\n",
    "        #- I earn 20$ daily\n",
    "name=input(\"name : \")\n",
    "address=float (input(\"Address: \"))\n",
    "earn=int(input(\"earning is \"))\n",
    "print(f\"\"\" Hi i am {name}\n",
    "My address is {address}\n",
    "I earn {earn} $ daily\n",
    "\"\"\")"
   ]
  },
  {
   "cell_type": "code",
   "execution_count": 7,
   "id": "ff7b76ed",
   "metadata": {},
   "outputs": [
    {
     "name": "stdout",
     "output_type": "stream",
     "text": [
      "name of student is : Ritesh Kumar Gupta\n",
      "Date of Birth is : 07-05-1998\n",
      "College details:\n",
      "name of the student :Ritesh Kumar Gupta\n",
      "Date of Birth in DD MM YYY : 07-05-1998\n",
      "Email id of the student Ritesh Kumar Gupta formed is :Ritesh Kumar Gupta.07-05-1998@gmail.com\n",
      "\n"
     ]
    }
   ],
   "source": [
    " # 6. Take user input (name,date of birth etc ) to fill a form for your college and print their email IDs.\n",
    "\n",
    "name=input(\"name of student is : \")\n",
    "DOB=input(\"Date of Birth is : \")\n",
    "print(f\"\"\"College details:\n",
    "name of the student :{name}\n",
    "Date of Birth in DD MM YYY : {DOB}\n",
    "Email id of the student {name} formed is :{name}.{DOB}@gmail.com\n",
    "\"\"\")"
   ]
  },
  {
   "cell_type": "code",
   "execution_count": 10,
   "id": "9e9e8a56",
   "metadata": {},
   "outputs": [
    {
     "name": "stdout",
     "output_type": "stream",
     "text": [
      "a is 22.4 and its data type is : <class 'str'>\n",
      "First a 22.4 get converted to float number  b - 22.4 and its data type becomes   : <class 'float'>\n",
      "Then float number b  22.4 get converted to integer c - 22 and now its data type becomes   : <class 'int'>\n"
     ]
    }
   ],
   "source": [
    "# 7. Convert the folllowing-\n",
    "      # - \"22.4\" into integer\n",
    "       # - \"22\" into complex no\n",
    "\n",
    "a=\"22.4\"\n",
    "print(f\"a is {a} and its data type is : {type(a)}\")\n",
    "b=float(a)\n",
    "print(f\"First a {a} get converted to float number  b - {b} and its data type becomes   : {type(b)}\")\n",
    "c=int(b)\n",
    "print(f\"Then float number b  {b} get converted to integer c - {c} and now its data type becomes   : {type(c)}\")     "
   ]
  },
  {
   "cell_type": "code",
   "execution_count": 11,
   "id": "32864cbc",
   "metadata": {},
   "outputs": [
    {
     "name": "stdout",
     "output_type": "stream",
     "text": [
      "<class 'str'>\n"
     ]
    },
    {
     "ename": "ValueError",
     "evalue": "invalid literal for int() with base 10: '22.4'",
     "output_type": "error",
     "traceback": [
      "\u001b[1;31m---------------------------------------------------------------------------\u001b[0m",
      "\u001b[1;31mValueError\u001b[0m                                Traceback (most recent call last)",
      "Input \u001b[1;32mIn [11]\u001b[0m, in \u001b[0;36m<cell line: 3>\u001b[1;34m()\u001b[0m\n\u001b[0;32m      1\u001b[0m a\u001b[38;5;241m=\u001b[39m\u001b[38;5;124m\"\u001b[39m\u001b[38;5;124m22.4\u001b[39m\u001b[38;5;124m\"\u001b[39m\n\u001b[0;32m      2\u001b[0m \u001b[38;5;28mprint\u001b[39m(\u001b[38;5;28mtype\u001b[39m(a))\n\u001b[1;32m----> 3\u001b[0m b\u001b[38;5;241m=\u001b[39m\u001b[38;5;28;43mint\u001b[39;49m\u001b[43m(\u001b[49m\u001b[43ma\u001b[49m\u001b[43m)\u001b[49m\n\u001b[0;32m      4\u001b[0m \u001b[38;5;28mprint\u001b[39m(\u001b[38;5;28mtype\u001b[39m(b))\n",
      "\u001b[1;31mValueError\u001b[0m: invalid literal for int() with base 10: '22.4'"
     ]
    }
   ],
   "source": [
    "a=\"22.4\"  # Directly we cannot convert float value in \"\" to int , first to float then to integer\n",
    "print(type(a))\n",
    "b=int(a)\n",
    "print(type(b))"
   ]
  },
  {
   "cell_type": "code",
   "execution_count": 13,
   "id": "fc117189",
   "metadata": {},
   "outputs": [
    {
     "name": "stdout",
     "output_type": "stream",
     "text": [
      "a is 22 and its data type is : <class 'str'>\n",
      "First a 22 get converted to float number  b - 22.0 and its data type becomes   : <class 'float'>\n",
      "Then float number b  22.0 get converted to complex number  c - (22+0j) and now its data type becomes   : <class 'complex'>\n"
     ]
    }
   ],
   "source": [
    "a=\"22\"\n",
    "print(f\"a is {a} and its data type is : {type(a)}\")\n",
    "b=float(a)\n",
    "print(f\"First a {a} get converted to float number  b - {b} and its data type becomes   : {type(b)}\")\n",
    "c=complex (b)\n",
    "print(f\"Then float number b  {b} get converted to complex number  c - {c} and now its data type becomes   : {type(c)}\")  "
   ]
  },
  {
   "cell_type": "code",
   "execution_count": null,
   "id": "26133f99",
   "metadata": {},
   "outputs": [],
   "source": []
  }
 ],
 "metadata": {
  "kernelspec": {
   "display_name": "Python 3 (ipykernel)",
   "language": "python",
   "name": "python3"
  },
  "language_info": {
   "codemirror_mode": {
    "name": "ipython",
    "version": 3
   },
   "file_extension": ".py",
   "mimetype": "text/x-python",
   "name": "python",
   "nbconvert_exporter": "python",
   "pygments_lexer": "ipython3",
   "version": "3.9.12"
  }
 },
 "nbformat": 4,
 "nbformat_minor": 5
}
