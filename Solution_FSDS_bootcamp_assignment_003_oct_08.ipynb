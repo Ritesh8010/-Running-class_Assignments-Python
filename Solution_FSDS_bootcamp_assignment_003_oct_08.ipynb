{
 "cells": [
  {
   "cell_type": "markdown",
   "id": "6173810e",
   "metadata": {},
   "source": [
    "# Python String Manipulation"
   ]
  },
  {
   "cell_type": "code",
   "execution_count": 3,
   "id": "3c64a782",
   "metadata": {},
   "outputs": [
    {
     "data": {
      "text/plain": [
       "3"
      ]
     },
     "execution_count": 3,
     "metadata": {},
     "output_type": "execute_result"
    }
   ],
   "source": [
    "#1.Count the number of times iNeuron appears in the string\n",
    "\n",
    "# Ans-\n",
    "\n",
    "text = \"Welcome to iNeuron, You are a part of FSDS Bootcamp 2 in iNeuron. I hope you are enjoying the course by iNeuron\"\n",
    "text.count(\"iNeuron\")"
   ]
  },
  {
   "cell_type": "code",
   "execution_count": 43,
   "id": "b2813d9f",
   "metadata": {},
   "outputs": [
    {
     "name": "stdout",
     "output_type": "stream",
     "text": [
      "Checking is  not True\n"
     ]
    }
   ],
   "source": [
    "#2.Check if position 5 to 11 ends with the phrase iNeuron. in the string\n",
    "\n",
    "#Ans-\n",
    "\n",
    "txt = \"Hello, welcome to FSDS 2.0 at iNeuron.\"\n",
    "if txt [5:11].endswith(\" iNeuron\"):\n",
    "    print(\"Checking is True\")\n",
    "else:\n",
    "    print(\"Checking is  not True\")"
   ]
  },
  {
   "cell_type": "code",
   "execution_count": 19,
   "id": "864b49a4",
   "metadata": {},
   "outputs": [
    {
     "name": "stdout",
     "output_type": "stream",
     "text": [
      "Enter full name:  vijay prakash sigha\n",
      "the abbreviations of the first and middle names except the last name is : V.P.Sigha\n"
     ]
    }
   ],
   "source": [
    "\"\"\"\n",
    "3.Write a program that takes your full name as input and displays\n",
    "the abbreviations of the first and middle names except the \n",
    "last name which is displayed as it is. \n",
    "For example, if your name is Sunny Bhaveen Chandra, \n",
    "then the output should be S.B.Chandra\n",
    "\"\"\"\n",
    "# Ans--\n",
    "\n",
    "name=input(\"Enter full name:  \")\n",
    "l=name.split()  # Split the string into a list\n",
    "sign=\"\"\n",
    "\n",
    "# traversing in the list\n",
    "\n",
    "for i in range(len(l)-1):\n",
    "    name=l[i]\n",
    "    # adds the capital  first character\n",
    "    sign=sign+(name[0].upper()+'.')\n",
    "  \n",
    "    \n",
    "sign=sign+l[-1].title() # l[-1] will give last item of l. we use title to print the first character in capital\n",
    "\n",
    "print(f\"the abbreviations of the first and middle names except the last name is : {sign}\")\n",
    "\n",
    "   \n",
    "\n",
    "\n"
   ]
  },
  {
   "cell_type": "code",
   "execution_count": 16,
   "id": "05e5c4a5",
   "metadata": {},
   "outputs": [
    {
     "name": "stdout",
     "output_type": "stream",
     "text": [
      "M#y#n#a#m#e#i#s#R#i#s#h#a#v#D#a#s#h\n"
     ]
    }
   ],
   "source": [
    "#4.Join all items in a list into a string, using a hash(#) character as separator\n",
    "\n",
    "LIST = [\"My\", \"name\", \"is\", \"Rishav\", \"Dash\"]\n",
    "\n",
    "# Ans-\n",
    "name=\"\"\n",
    "new_name=\"\"\n",
    "for i in range(len(LIST)):\n",
    "    name=name+LIST[i]\n",
    "new_name=\"#\".join(name)\n",
    "print(new_name)\n"
   ]
  },
  {
   "cell_type": "code",
   "execution_count": 35,
   "id": "0de8b646",
   "metadata": {},
   "outputs": [
    {
     "name": "stdout",
     "output_type": "stream",
     "text": [
      "True\n",
      "False\n",
      "*****\n",
      "True\n",
      "False\n",
      "False\n",
      "*****\n",
      "True\n",
      "False\n",
      "False\n",
      "*****\n",
      "True\n",
      "True\n",
      "True\n",
      "*****\n",
      "False\n",
      "True\n",
      "True\n"
     ]
    }
   ],
   "source": [
    "#5.Write example for the following string manipulation function,\n",
    "\n",
    "\"\"\"\n",
    "- isdecimal()\n",
    "- islower()\n",
    "- isupper()\n",
    "- isalpha()\n",
    "- isnumeric()\n",
    "\"\"\"\n",
    "# Ans-\n",
    "#isdecimal()\n",
    "expenses=\"67543\"\n",
    "print(expenses.isdecimal())\n",
    "expenses_1=\"43rtu\"\n",
    "print(expenses_1.isdecimal())\n",
    "print(\"*****\")\n",
    "\n",
    "#- islower()\n",
    "name=\"ritesh\"\n",
    "print(name.islower())\n",
    "name_1=\"Ritesh\"\n",
    "print(name_1.islower())\n",
    "name_2=\"rITESH\"\n",
    "print(name_1.islower())\n",
    "print(\"*****\")\n",
    "\n",
    "#- isupper()\n",
    "name=\"RITESH\"\n",
    "print(name.isupper())\n",
    "name_1=\"Ritesh\"\n",
    "print(name_1.isupper())\n",
    "name_2=\"rITESH\"\n",
    "print(name_2.isupper())\n",
    "print(\"*****\")\n",
    "\n",
    "# isalpha()\n",
    "name=\"RITESH\"\n",
    "print(name.isalpha())\n",
    "name_1=\"Ritesh\"\n",
    "print(name_1.isalpha())\n",
    "name_2=\"rITESH\"\n",
    "print(name_2.isalpha())\n",
    "print(\"*****\")\n",
    "\n",
    "# isnumeric()\n",
    "n1=\"23rth\"\n",
    "print(n1.isnumeric())\n",
    "n2=\"46677\"\n",
    "print(n2.isnumeric())\n",
    "n3 = \"123452500\"\n",
    "print(n3.isnumeric())"
   ]
  },
  {
   "cell_type": "code",
   "execution_count": 42,
   "id": "b558be16",
   "metadata": {},
   "outputs": [
    {
     "name": "stdout",
     "output_type": "stream",
     "text": [
      "Enter PAN Number : XYNPT9394R\n",
      "User input is correct\n"
     ]
    }
   ],
   "source": [
    "#6.Indian PAN card format follows the following formats -\n",
    "\"\"\"\n",
    "AYEPC7894X\n",
    "ABCDE9999Y Take user input for PAN_CARD and validate as \n",
    "per the above example.\n",
    "\"\"\"\n",
    "PAN_NUMBERS=input(\"Enter PAN Number : \")\n",
    "if PAN_NUMBERS[0:5].isalpha() and PAN_NUMBERS[5:9].isnumeric() and PAN_NUMBERS[-1].isalpha():\n",
    "    print(\"User input is correct\")\n",
    "else:\n",
    "    print(\"invalid input\")"
   ]
  },
  {
   "cell_type": "code",
   "execution_count": null,
   "id": "94f752db",
   "metadata": {},
   "outputs": [],
   "source": []
  }
 ],
 "metadata": {
  "kernelspec": {
   "display_name": "Python 3 (ipykernel)",
   "language": "python",
   "name": "python3"
  },
  "language_info": {
   "codemirror_mode": {
    "name": "ipython",
    "version": 3
   },
   "file_extension": ".py",
   "mimetype": "text/x-python",
   "name": "python",
   "nbconvert_exporter": "python",
   "pygments_lexer": "ipython3",
   "version": "3.9.12"
  }
 },
 "nbformat": 4,
 "nbformat_minor": 5
}
