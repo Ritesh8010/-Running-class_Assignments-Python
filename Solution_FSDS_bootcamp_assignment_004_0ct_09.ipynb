{
 "cells": [
  {
   "cell_type": "code",
   "execution_count": 5,
   "id": "5664e453",
   "metadata": {},
   "outputs": [
    {
     "name": "stdout",
     "output_type": "stream",
     "text": [
      "largest number is: 525\n"
     ]
    }
   ],
   "source": [
    "# Q1.Find the largest number from the given list, use for loop\n",
    "\n",
    "# numbers = [12, 75, 150, 180, 145, 525, 50]\n",
    "\n",
    "#Ans-\n",
    "\n",
    "numbers = [12, 75, 150, 180, 145, 525, 50]\n",
    "max_num=numbers[0]\n",
    "for i in numbers:\n",
    "    if i>max_num:\n",
    "        max_num=i\n",
    "\n",
    "print(f\"largest number is: {max_num}\")\n",
    "    \n",
    "    "
   ]
  },
  {
   "cell_type": "code",
   "execution_count": 6,
   "id": "f0b7d6bf",
   "metadata": {},
   "outputs": [
    {
     "name": "stdout",
     "output_type": "stream",
     "text": [
      "2\n",
      "4\n",
      "6\n",
      "8\n",
      "10\n",
      "12\n"
     ]
    }
   ],
   "source": [
    "# Q2. Print all the even number between (1, 12).\n",
    "\n",
    "# Ans-\n",
    "\n",
    "for i in range(1,13):\n",
    "    if i % 2==0:\n",
    "        print(i)"
   ]
  },
  {
   "cell_type": "code",
   "execution_count": 10,
   "id": "8a5a2f6f",
   "metadata": {},
   "outputs": [
    {
     "name": "stdout",
     "output_type": "stream",
     "text": [
      "Enter the upper limit number: 20\n",
      "Summation of 1 to 20 is: 210.0\n"
     ]
    }
   ],
   "source": [
    "# Q3. Calculate the sum of all numbers from 1 to a given number\n",
    "\n",
    "\"\"\"\n",
    "Expected Output:\n",
    "\n",
    "Enter number 10\n",
    "\n",
    "Sum is:  55\n",
    "\n",
    "\"\"\"\n",
    "\n",
    "# Ans-\n",
    "\n",
    "n=int(input(\"Enter the upper limit number: \"))\n",
    "\n",
    "for i in range(1,n+1):\n",
    "    sn=(n*(n+1))/2\n",
    "print(f\"Summation of 1 to {n} is: {sn}\")\n"
   ]
  },
  {
   "cell_type": "code",
   "execution_count": 21,
   "id": "33ecfc30",
   "metadata": {},
   "outputs": [
    {
     "name": "stdout",
     "output_type": "stream",
     "text": [
      "The no divisible by 5 are:\n",
      "75\n",
      "150\n",
      "180\n",
      "145\n",
      "525\n",
      "50\n",
      "Printing all numbers skipping greater than 150 and moves to next number\n",
      "12\n",
      "75\n",
      "150\n",
      "145\n",
      "50\n",
      "all the numbers before 500 and stop printing when traverse goes to numbers greater than 500\n",
      "12\n",
      "75\n",
      "150\n",
      "180\n",
      "145\n"
     ]
    }
   ],
   "source": [
    "\"\"\"\n",
    "Q4. Write a program to display only those numbers from a list \n",
    "that satisfy the following conditions\n",
    "\n",
    "The number must be divisible by five\n",
    "\n",
    "If the number is greater than 150, then skip it and move \n",
    "to the next number\n",
    "\n",
    "If the number is greater than 500, then stop the loop\"\"\"\n",
    "\n",
    "# Given:\n",
    "\n",
    "#numbers = [12, 75, 150, 180, 145, 525, 50]\n",
    "\n",
    "# Ans-\n",
    "numbers = [12, 75, 150, 180, 145, 525, 50]\n",
    "print(f\"The no divisible by 5 are:\")\n",
    "for i in numbers:\n",
    "    if i%5==0:\n",
    "        print(i)\n",
    "print(f\"Printing all numbers skipping greater than 150 and moves to next number\")\n",
    "for i in numbers:\n",
    "    if i > 150:\n",
    "        continue\n",
    "    print(i)\n",
    "print(f\"all the numbers before 500 and stop printing when traverse goes to numbers greater than 500\")\n",
    "for i in numbers:\n",
    "    if i > 500:\n",
    "        break\n",
    "    print(i)\n",
    "\n"
   ]
  },
  {
   "cell_type": "code",
   "execution_count": 24,
   "id": "e7a5b345",
   "metadata": {},
   "outputs": [
    {
     "name": "stdout",
     "output_type": "stream",
     "text": [
      "The list is [10, 20, 30, 40, 50]\n",
      "Reverse order is [50, 40, 30, 20, 10]\n"
     ]
    }
   ],
   "source": [
    "# Q5. Print the given list in reverse order.\n",
    "#list1 = [10, 20, 30, 40, 50]\n",
    "\n",
    "# Ans-\n",
    "list1 = [10, 20, 30, 40, 50]\n",
    "print(\"The list is\",list1)\n",
    "print(\"Reverse order is\",list1[::-1])\n",
    "\n"
   ]
  },
  {
   "cell_type": "code",
   "execution_count": null,
   "id": "88e51a43",
   "metadata": {},
   "outputs": [],
   "source": []
  }
 ],
 "metadata": {
  "kernelspec": {
   "display_name": "Python 3 (ipykernel)",
   "language": "python",
   "name": "python3"
  },
  "language_info": {
   "codemirror_mode": {
    "name": "ipython",
    "version": 3
   },
   "file_extension": ".py",
   "mimetype": "text/x-python",
   "name": "python",
   "nbconvert_exporter": "python",
   "pygments_lexer": "ipython3",
   "version": "3.9.12"
  }
 },
 "nbformat": 4,
 "nbformat_minor": 5
}
