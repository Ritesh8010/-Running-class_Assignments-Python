{
 "cells": [
  {
   "cell_type": "markdown",
   "id": "55ef85f4",
   "metadata": {},
   "source": [
    "# List, Tuple and Sets"
   ]
  },
  {
   "cell_type": "code",
   "execution_count": 5,
   "id": "f55eb90d",
   "metadata": {},
   "outputs": [
    {
     "name": "stdout",
     "output_type": "stream",
     "text": [
      "empty cart: 0\n",
      "5000\n",
      "cart after adding watch: 5000\n",
      "10000\n",
      "cart after adding phone: 15000\n",
      "50000\n",
      "cart after adding laptop: 65000\n",
      "1000\n",
      "cart after adding shirt: 66000\n",
      "Total payable amount: 66000\n"
     ]
    }
   ],
   "source": [
    "\"\"\"\n",
    "1. On amazon website we have the following available items -¶\n",
    "amazon_website = [(\"watch\", 5000), (\"phone\", 10000), (\"laptop\", 50000), (\"shirt\", 1000)]\n",
    "Take the user input N no. of times and find out the total cost to be paid?\n",
    "\n",
    "OR\n",
    "\n",
    "You can ask the user quntity or the count of item?\n",
    "\n",
    "if the item is not present in the amazon website then print that item as out of stock and do add it total\n",
    "\n",
    "HINT: while, for loop.. indexing\n",
    "\n",
    "\"\"\"\n",
    "\n",
    "# Ans-\n",
    "\n",
    "amazon_website = [(\"watch\", 5000), (\"phone\", 10000), (\"laptop\", 50000), (\"shirt\", 1000)]\n",
    "total_cost=0\n",
    "print(f\"empty cart: {total_cost}\")\n",
    "for item in amazon_website:\n",
    "  print(item[1])\n",
    "  total_cost = total_cost + item[1]\n",
    "  print(f\"cart after adding {item[0]}: {total_cost}\")\n",
    "\n",
    "print(f\"Total payable amount: {total_cost}\")\n",
    "\n"
   ]
  },
  {
   "cell_type": "code",
   "execution_count": 5,
   "id": "6279deac",
   "metadata": {},
   "outputs": [
    {
     "name": "stdout",
     "output_type": "stream",
     "text": [
      "2 3 4 5 6 6 "
     ]
    }
   ],
   "source": [
    "# 2. What will be the output of the following code snippet?\n",
    "arr = [1, 2, 3, 4, 5, 6]\n",
    "for i in range(1, 6):\n",
    "    arr[i - 1] = arr[i]\n",
    "for i in range(0, 6): \n",
    "    print(arr[i], end = \" \")\n",
    "    \n",
    "# Ans- \n",
    "# Traversing in the array and getting value swapped\n",
    "# Output- 2 3 4 5 6 6"
   ]
  },
  {
   "cell_type": "code",
   "execution_count": 45,
   "id": "605ffe1d",
   "metadata": {},
   "outputs": [
    {
     "name": "stdout",
     "output_type": "stream",
     "text": [
      "Enter numbers separated by comma\n",
      "10,20,10,20,30,40,50,60,20\n",
      "The repeated items area: \n",
      "10\n",
      "20\n",
      "10\n",
      "20\n",
      "20\n"
     ]
    }
   ],
   "source": [
    "#3. Write a Python program to find the repeated items of a tuple\n",
    "\n",
    "# Ans-\n",
    "# create a tuple\n",
    "print(\"Enter numbers separated by comma\")\n",
    "t1=tuple([int(e) for e in input().split(',')])\n",
    "i=0\n",
    "print(\"The repeated items area: \")\n",
    "for e in t1:\n",
    "    if t1.count(e)>1:\n",
    "        print(e)\n",
    "    \n",
    "  \n",
    "\n",
    "        \n",
    "    "
   ]
  },
  {
   "cell_type": "code",
   "execution_count": 73,
   "id": "0f620c54",
   "metadata": {},
   "outputs": [
    {
     "name": "stdout",
     "output_type": "stream",
     "text": [
      "[(10, 20, 500), (40, 50, 500), (70, 80, 500)]\n"
     ]
    }
   ],
   "source": [
    "\"\"\"\n",
    "4. Replace last value of tuples in a list with 500. Try using list comprehension\n",
    "Example -:\n",
    "\n",
    "Input -:\n",
    "\n",
    "[(10, 20, 40), (40, 50, 60), (70, 80, 90)]\n",
    "\n",
    "Output -:\n",
    "[(10, 20, 500), (40, 50, 500), (70, 80, 500)]\n",
    "\"\"\"\n",
    "\n",
    "# Ans-\n",
    "l = [(10, 20, 40), (40, 50, 60), (70, 80, 90)]\n",
    "print([t[:-1] + (500,) for t in l])\n",
    "\n"
   ]
  },
  {
   "cell_type": "code",
   "execution_count": null,
   "id": "becf7540",
   "metadata": {},
   "outputs": [],
   "source": []
  }
 ],
 "metadata": {
  "kernelspec": {
   "display_name": "Python 3 (ipykernel)",
   "language": "python",
   "name": "python3"
  },
  "language_info": {
   "codemirror_mode": {
    "name": "ipython",
    "version": 3
   },
   "file_extension": ".py",
   "mimetype": "text/x-python",
   "name": "python",
   "nbconvert_exporter": "python",
   "pygments_lexer": "ipython3",
   "version": "3.9.12"
  }
 },
 "nbformat": 4,
 "nbformat_minor": 5
}
